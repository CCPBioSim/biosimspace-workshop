{
 "cells": [
  {
   "cell_type": "markdown",
   "metadata": {},
   "source": [
    "Author: Lester Hedges<br>\n",
    "Email:&nbsp;&nbsp; lester.hedges@bristol.ac.uk\n",
    "\n",
    "# Equilibration\n",
    "\n",
    "A node to perform equilibration of a molecular system."
   ]
  },
  {
   "cell_type": "code",
   "execution_count": null,
   "metadata": {},
   "outputs": [],
   "source": [
    "import BioSimSpace as BSS"
   ]
  },
  {
   "cell_type": "code",
   "execution_count": null,
   "metadata": {},
   "outputs": [],
   "source": [
    "node = BSS.Gateway.Node(\"A node to perform equilibration. Saves the equlibrated molecular configuration and RMD to file.\")\n",
    "node.addAuthor(name=\"Lester Hedges\", email=\"lester.hedges@bristol.ac.uk\", affiliation=\"University of Bristol\")\n",
    "node.setLicense(\"GPLv3\")"
   ]
  },
  {
   "cell_type": "markdown",
   "metadata": {},
   "source": [
    "Set the input requirements:"
   ]
  },
  {
   "cell_type": "code",
   "execution_count": null,
   "metadata": {},
   "outputs": [],
   "source": [
    "node.addInput(\"files\", BSS.Gateway.FileSet(help=\"a set of molecular input files\"))\n",
    "node.addInput(\"runtime\", BSS.Gateway.Float(help=\"the run time in nanoseconds\", minimum=0, maximum=10, default=0.2))\n",
    "node.addInput(\"temperature_start\", BSS.Gateway.Float(help=\"the initial temperature in Kelvin\", minimum=0, maximum=1000, default=0))\n",
    "node.addInput(\"temperature_end\", BSS.Gateway.Float(help=\"the final temperature in Kelvin\", minimum=0, maximum=1000, default=300))\n",
    "node.addInput(\"restrain_backbone\", BSS.Gateway.Boolean(help=\"whether to restrain the backbone\", default=False))\n",
    "node.addInput(\"residue\", BSS.Gateway.String(help=\"the name of the molecular residue\"))"
   ]
  },
  {
   "cell_type": "markdown",
   "metadata": {},
   "source": [
    "Note `runtime`, `temperature-start`, and `temperature-end` are currently of type `BSS.Gateway.Float`. In future these will be additional types, i.e. `BSS.Gateway.Time`, `BSS.Gateway.Temperature`, allowing better handling for units and conversions.\n",
    "\n",
    "We now need to define the output of the node. In this case we will return a set of files representing the equilibrated molecular system and a single text file that stores the root mean squared displacement of the molecule containing the specified residue name."
   ]
  },
  {
   "cell_type": "code",
   "execution_count": null,
   "metadata": {},
   "outputs": [],
   "source": [
    "node.addOutput(\"equilibrated\", BSS.Gateway.FileSet(help=\"the equilibrated molecular system\"))\n",
    "node.addOutput(\"rmsd\", BSS.Gateway.File(help=\"the RMSD of the molecule\"))"
   ]
  },
  {
   "cell_type": "markdown",
   "metadata": {},
   "source": [
    "If needed, here are some input files again. These can then be re-uploaded using the GUI.\n",
    "\n",
    "AMBER files: [ala.crd](../input/ala.crd), [ala.top](../input/ala.top)\n",
    "\n",
    "Now show the GUI."
   ]
  },
  {
   "cell_type": "code",
   "execution_count": null,
   "metadata": {},
   "outputs": [],
   "source": [
    "node.showControls()"
   ]
  },
  {
   "cell_type": "markdown",
   "metadata": {},
   "source": [
    "Generate the molecular system."
   ]
  },
  {
   "cell_type": "code",
   "execution_count": null,
   "metadata": {},
   "outputs": [],
   "source": [
    "system = BSS.readMolecules(node.getInput(\"files\"))"
   ]
  },
  {
   "cell_type": "markdown",
   "metadata": {},
   "source": [
    "Set up the equilibration protocol.\n",
    "\n",
    "(Note that the keyword arguments happen to have the same name as the input requirements. This need not be the case.)"
   ]
  },
  {
   "cell_type": "code",
   "execution_count": null,
   "metadata": {},
   "outputs": [],
   "source": [
    "protocol = BSS.Protocol.Equilibration(runtime=node.getInput(\"runtime\"), temperature_start=node.getInput(\"temperature_start\"), temperature_end=node.getInput(\"temperature_end\"), restrain_backbone=node.getInput(\"restrain_backbone\"))"
   ]
  },
  {
   "cell_type": "markdown",
   "metadata": {},
   "source": [
    "Start the MD equilibration."
   ]
  },
  {
   "cell_type": "code",
   "execution_count": null,
   "metadata": {},
   "outputs": [],
   "source": [
    "process = BSS.MD.run(system, protocol)"
   ]
  },
  {
   "cell_type": "markdown",
   "metadata": {},
   "source": [
    "Get the equilibrated molecular system and write to file in the same format as the input."
   ]
  },
  {
   "cell_type": "code",
   "execution_count": null,
   "metadata": {},
   "outputs": [],
   "source": [
    "node.setOutput(\"equilibrated\", BSS.saveMolecules(\"equilibrated\", process.getSystem(block=True), system.fileFormat()))"
   ]
  },
  {
   "cell_type": "markdown",
   "metadata": {},
   "source": [
    "Write the RMSD of the chosen molecule to file and set the output requirement."
   ]
  },
  {
   "cell_type": "code",
   "execution_count": null,
   "metadata": {},
   "outputs": [],
   "source": [
    "rmsd = process.getTrajectory().RMSD(frame=0, molecule=system[BSS.MolWithResName(node.getInput(\"residue\").upper())])\n",
    "\n",
    "with open(\"rmsd.txt\", \"w\") as file:\n",
    "    for index, value in enumerate(rmsd):\n",
    "        file.write(\"%d %5.4f\\n\" % (index, value))\n",
    "        \n",
    "node.setOutput(\"rmsd\", \"rmsd.txt\")"
   ]
  },
  {
   "cell_type": "markdown",
   "metadata": {},
   "source": [
    "Validate the node."
   ]
  },
  {
   "cell_type": "code",
   "execution_count": null,
   "metadata": {},
   "outputs": [],
   "source": [
    "node.validate()"
   ]
  }
 ],
 "metadata": {
  "kernelspec": {
   "display_name": "Python 3",
   "language": "python",
   "name": "python3"
  },
  "language_info": {
   "codemirror_mode": {
    "name": "ipython",
    "version": 3
   },
   "file_extension": ".py",
   "mimetype": "text/x-python",
   "name": "python",
   "nbconvert_exporter": "python",
   "pygments_lexer": "ipython3",
   "version": "3.5.4"
  }
 },
 "nbformat": 4,
 "nbformat_minor": 2
}
