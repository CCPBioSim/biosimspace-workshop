{
 "cells": [
  {
   "cell_type": "markdown",
   "metadata": {},
   "source": [
    "Author: Lester Hedges<br>\n",
    "Email:&nbsp;&nbsp; lester.hedges@bristol.ac.uk\n",
    "\n",
    "# Equilibration\n",
    "\n",
    "A node to perform equilibration of a molecular system."
   ]
  },
  {
   "cell_type": "code",
   "execution_count": null,
   "metadata": {},
   "outputs": [],
   "source": [
    "import BioSimSpace as BSS"
   ]
  },
  {
   "cell_type": "code",
   "execution_count": null,
   "metadata": {},
   "outputs": [],
   "source": [
    "node = BSS.Gateway.Node(\"A node to perform equilibration and save the equlibrated molecular configuration to file.\")\n",
    "node.addAuthor(name=\"Lester Hedges\", email=\"lester.hedges@bristol.ac.uk\", affiliation=\"University of Bristol\")\n",
    "node.setLicense(\"GPLv3\")"
   ]
  },
  {
   "cell_type": "markdown",
   "metadata": {},
   "source": [
    "Set the input requirements:"
   ]
  },
  {
   "cell_type": "code",
   "execution_count": null,
   "metadata": {},
   "outputs": [],
   "source": [
    "node.addInput(\"files\", BSS.Gateway.FileSet(help=\"A set of molecular input files.\"))\n",
    "\n",
    "node.addInput(\"runtime\", BSS.Gateway.Time(help=\"The run time.\",\n",
    "                                          unit=\"nanoseconds\",\n",
    "                                          minimum=0*BSS.Units.Time.nanosecond,\n",
    "                                          maximum=10*BSS.Units.Time.nanosecond,\n",
    "                                          default=0.2*BSS.Units.Time.nanosecond))\n",
    "\n",
    "node.addInput(\"temperature_start\", BSS.Gateway.Temperature(help=\"The initial temperature.\",\n",
    "                                                           unit=\"kelvin\",\n",
    "                                                           minimum=0*BSS.Units.Temperature.kelvin,\n",
    "                                                           maximum=1000*BSS.Units.Temperature.kelvin,\n",
    "                                                           default=0*BSS.Units.Temperature.kelvin))\n",
    "\n",
    "node.addInput(\"temperature_end\", BSS.Gateway.Temperature(help=\"The final temperature.\",\n",
    "                                                         unit=\"kelvin\",\n",
    "                                                         minimum=0*BSS.Units.Temperature.kelvin,\n",
    "                                                         maximum=1000*BSS.Units.Temperature.kelvin,\n",
    "                                                         default=300*BSS.Units.Temperature.kelvin))\n",
    "\n",
    "node.addInput(\"restraint\", BSS.Gateway.Boolean(help=\"The type of restraint to use.\",\n",
    "                                                       allowed=[\"None\"] + BSS.Protocol.Equilibration.restraints(), default=\"None\"))"
   ]
  },
  {
   "cell_type": "markdown",
   "metadata": {},
   "source": [
    "We now need to define the output of the node. In this case we will return a set of files representing the equilibrated molecular system."
   ]
  },
  {
   "cell_type": "code",
   "execution_count": null,
   "metadata": {},
   "outputs": [],
   "source": [
    "node.addOutput(\"equilibrated\", BSS.Gateway.FileSet(help=\"The equilibrated molecular system.\"))"
   ]
  },
  {
   "cell_type": "markdown",
   "metadata": {},
   "source": [
    "If needed, here are some input files again. These can then be re-uploaded using the GUI.\n",
    "\n",
    "AMBER files: [ala.crd](../input/ala.crd), [ala.top](../input/ala.top)\n",
    "\n",
    "GROMACS: [kigaki.gro](https://raw.githubusercontent.com/michellab/BioSimSpace/devel/demo/gromacs/kigaki/kigaki.gro), [kigaki.top](https://raw.githubusercontent.com/michellab/BioSimSpace/devel/demo/gromacs/kigaki/kigaki.top)\n",
    "\n",
    "Now show the GUI."
   ]
  },
  {
   "cell_type": "code",
   "execution_count": null,
   "metadata": {},
   "outputs": [],
   "source": [
    "node.showControls()"
   ]
  },
  {
   "cell_type": "markdown",
   "metadata": {},
   "source": [
    "Generate the molecular system."
   ]
  },
  {
   "cell_type": "code",
   "execution_count": null,
   "metadata": {},
   "outputs": [],
   "source": [
    "system = BSS.IO.readMolecules(node.getInput(\"files\"))"
   ]
  },
  {
   "cell_type": "markdown",
   "metadata": {},
   "source": [
    "Set up the equilibration protocol.\n",
    "\n",
    "(Note that the keyword arguments happen to have the same name as the input requirements. This need not be the case.)"
   ]
  },
  {
   "cell_type": "code",
   "execution_count": null,
   "metadata": {},
   "outputs": [],
   "source": [
    "protocol = BSS.Protocol.Equilibration(runtime=node.getInput(\"runtime\"), temperature_start=node.getInput(\"temperature_start\"), temperature_end=node.getInput(\"temperature_end\"), restraint=node.getInput(\"restraint\"))"
   ]
  },
  {
   "cell_type": "markdown",
   "metadata": {},
   "source": [
    "Start the MD equilibration."
   ]
  },
  {
   "cell_type": "code",
   "execution_count": null,
   "metadata": {},
   "outputs": [],
   "source": [
    "process = BSS.MD.run(system, protocol)"
   ]
  },
  {
   "cell_type": "markdown",
   "metadata": {},
   "source": [
    "Get the equilibrated molecular system and write to file in the same format as the input."
   ]
  },
  {
   "cell_type": "code",
   "execution_count": null,
   "metadata": {},
   "outputs": [],
   "source": [
    "node.setOutput(\"equilibrated\", BSS.IO.saveMolecules(\"equilibrated\", process.getSystem(block=True), system.fileFormat()))"
   ]
  },
  {
   "cell_type": "markdown",
   "metadata": {},
   "source": [
    "Validate the node."
   ]
  },
  {
   "cell_type": "code",
   "execution_count": null,
   "metadata": {},
   "outputs": [],
   "source": [
    "node.validate()"
   ]
  }
 ],
 "metadata": {
  "kernelspec": {
   "display_name": "Python 3 (ipykernel)",
   "language": "python",
   "name": "python3"
  },
  "language_info": {
   "codemirror_mode": {
    "name": "ipython",
    "version": 3
   },
   "file_extension": ".py",
   "mimetype": "text/x-python",
   "name": "python",
   "nbconvert_exporter": "python",
   "pygments_lexer": "ipython3",
   "version": "3.7.12"
  }
 },
 "nbformat": 4,
 "nbformat_minor": 2
}
