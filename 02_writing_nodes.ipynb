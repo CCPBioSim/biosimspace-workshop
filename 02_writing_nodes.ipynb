{
 "cells": [
  {
   "cell_type": "markdown",
   "metadata": {},
   "source": [
    "Author: Lester Hedges<br>\n",
    "Email:&nbsp;&nbsp; lester.hedges@bristol.ac.uk\n",
    "\n",
    "# Writing a node\n",
    "\n",
    "In the previous notebook you learned about the concept of [BioSimSpace](https://www.biosimspace.org) nodes and learned how to run them from the command-line. In this lesson we'll take a detailed look at the same minimisation node in order to see how it was written.\n",
    "\n",
    "As you have already seen, nodes are simply python scripts. While it is possible to write a script directly, we suggest that the best way of writing a node is inside of a [Jupyter](http://jupyter.org) notebook. The interactive notebook environment provides a fantastic way of prototyping and documenting your node and will allow a user to interact with it directly on a remote cloud server, such as [notebook.biosimspace.org](https://notebook.biosimspace.org). The notebook can provide a complete record of your work, inlcuding documentation, visualisation, and graphs. When you are happy with the node, you can download it as a regular python script (by clicking on `File/Download As/Python`) and run it directly from the command-line. Any interactive BioSimSpace elements, such as molecular visualisations, will simply be ignored when run this way.\n",
    "\n",
    "Let's now take a look at the accompanying notebook for the minimisation node that you ran in the previous lesson, [minimisation.ipynb](nodes/minimisation.ipynb) (click on the link to open the notebook). Work through the notebook cell-by-cell to learn how the node was written."
   ]
  }
 ],
 "metadata": {
  "kernelspec": {
   "display_name": "Python 3",
   "language": "python",
   "name": "python3"
  },
  "language_info": {
   "codemirror_mode": {
    "name": "ipython",
    "version": 3
   },
   "file_extension": ".py",
   "mimetype": "text/x-python",
   "name": "python",
   "nbconvert_exporter": "python",
   "pygments_lexer": "ipython3",
   "version": "3.5.4"
  }
 },
 "nbformat": 4,
 "nbformat_minor": 2
}
