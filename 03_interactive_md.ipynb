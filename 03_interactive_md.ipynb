{
 "cells": [
  {
   "cell_type": "markdown",
   "metadata": {},
   "source": [
    "# Interactive molecular dynamics\n",
    "\n",
    "So far you have seen how to use BioSimSpace to write workflow components and run them in a Jupyter notebook, or from the command-line. BioSimSpace is also a great tool for playing around with molecular simulations directly and interacting with them in real-time. In this notebook you'll learn how to use BioSimSpace to set up and run an equilibration protocol, then query the running process for information, plot graphs of the latest data, visualise molecular configurations, and analyse trajectory data.\n",
    "\n",
    "Before we get started, let's import BioSimSpace so that it's available inside of our notebook."
   ]
  },
  {
   "cell_type": "code",
   "execution_count": null,
   "metadata": {},
   "outputs": [],
   "source": [
    "import BioSimSpace as BSS"
   ]
  },
  {
   "cell_type": "markdown",
   "metadata": {},
   "source": [
    "## Creating a molecular system\n",
    "\n",
    "First of all we need to load a molecular system. Once again, we'll use the examples from the `input` directory."
   ]
  },
  {
   "cell_type": "code",
   "execution_count": null,
   "metadata": {},
   "outputs": [],
   "source": [
    "system = BSS.IO.readMolecules([\"input/ala.crd\", \"input/ala.top\"])"
   ]
  },
  {
   "cell_type": "markdown",
   "metadata": {},
   "source": [
    "We have now created a molecular system. The system consists of an alanine dipeptide molecule in a box of water. To show the number of molecules in the system, run:"
   ]
  },
  {
   "cell_type": "code",
   "execution_count": null,
   "metadata": {},
   "outputs": [],
   "source": [
    "system.nMolecules()"
   ]
  },
  {
   "cell_type": "markdown",
   "metadata": {},
   "source": [
    "## Defining a simulation protocol\n",
    "\n",
    "BioSimSpace provides functionality for defining various simulation protocols. In this notebook we will construct a typical simulation workflow that uses a sequence of simple protocols, with the output of one forming the input of the next:\n",
    "\n",
    "1. _Minimisation:_ Energy minimisation the molecular system.\n",
    "2. _Equilibration:_ Equlibration of the system to a target temperature.\n",
    "3. _Production:_ Regular molecular dynamics, run at fixed temperature.\n",
    "4. _Custom_: A user defined protocol, e.g. a config file for a molecular dynamics package.\n",
    "\n",
    "When defining a protocol we are configuring the type of simulation that we wish to run, as well as any options for the particular simulation. For example, to create a default equilibration protocol:\n",
    "\n",
    "```python\n",
    "protocol = BSS.Protcol.Equilibration()\n",
    "```\n",
    "\n",
    "This defines a 0.2 nanosecond equilibration protocol at a temperature of 300 Kelvin. For convenience, let's reduce the runtime. We'll also slowly heat the system during equilibration and restrain the position of atoms in the protein backbone."
   ]
  },
  {
   "cell_type": "code",
   "execution_count": null,
   "metadata": {},
   "outputs": [],
   "source": [
    "# Initialise a short equilibration protocol.\n",
    "protocol = BSS.Protocol.Equilibration(runtime=0.05*BSS.Units.Time.nanosecond,\n",
    "                                      temperature_start=0*BSS.Units.Temperature.kelvin,\n",
    "                                      temperature_end=300*BSS.Units.Temperature.kelvin,\n",
    "                                      restrain_backbone=True)"
   ]
  },
  {
   "cell_type": "markdown",
   "metadata": {},
   "source": [
    "## Initialising a process\n",
    "\n",
    "We now have everything that is needed to create a process object. To do so, run:"
   ]
  },
  {
   "cell_type": "code",
   "execution_count": null,
   "metadata": {},
   "outputs": [],
   "source": [
    "process = BSS.MD.run(system, protocol, autostart=False)"
   ]
  },
  {
   "cell_type": "markdown",
   "metadata": {},
   "source": [
    "On creation, BioSimSpace searches your `PATH` for an appropriate executable for running the process. The executable that is chosen may be dependent on the available hardware and type of protocol.\n",
    "\n",
    "To see the executable that was chosen, run:"
   ]
  },
  {
   "cell_type": "code",
   "execution_count": null,
   "metadata": {},
   "outputs": [],
   "source": [
    "process.exe()"
   ]
  },
  {
   "cell_type": "markdown",
   "metadata": {},
   "source": [
    "By default, BioSimSpace runs each process inside a unique temporary workspace. This is where all of the input and configuration files will be created, as well as any of the output when the process is run.\n",
    "\n",
    "To view the working directory, run:"
   ]
  },
  {
   "cell_type": "code",
   "execution_count": null,
   "metadata": {},
   "outputs": [],
   "source": [
    "process.workDir()"
   ]
  },
  {
   "cell_type": "markdown",
   "metadata": {},
   "source": [
    "To get a list of the autogenerated input files:"
   ]
  },
  {
   "cell_type": "code",
   "execution_count": null,
   "metadata": {},
   "outputs": [],
   "source": [
    "process.inputFiles()"
   ]
  },
  {
   "cell_type": "markdown",
   "metadata": {},
   "source": [
    "## Configuring the process\n",
    "\n",
    "For each protocol, BioSimSpace will initialise default configuration parameters appropriate to the process based on best practice in the field.\n",
    "\n",
    "To see the list of configuration parameter strings, run:"
   ]
  },
  {
   "cell_type": "code",
   "execution_count": null,
   "metadata": {},
   "outputs": [],
   "source": [
    "process.getConfig()"
   ]
  },
  {
   "cell_type": "markdown",
   "metadata": {},
   "source": [
    "In some cases, it may be desirable to run a custom protocol. BioSimSpace provides several ways of acheiving this:\n",
    "\n",
    "* By setting the configuration of an existing process:\n",
    "\n",
    "```python\n",
    "# Set the configuration from file.\n",
    "process.setConfig(\"my_config.txt\")\n",
    "\n",
    "# Set the configuration using a list of configuration strings.\n",
    "my_config = [\"some config parameter string\", \"another config parameter string\"]\n",
    "process.setConfig(my_config)\n",
    "```\n",
    "\n",
    "* By adding to the configuration of an existing process:\n",
    "\n",
    "```python\n",
    "# Add using a configuration from file.\n",
    "process.addToConfig(\"my_config.txt\")\n",
    "\n",
    "# Add a list of parameter strings to the configuration.\n",
    "my_config = [\"some config parameter string\", \"another config parameter string\"]\n",
    "process.addToConfig(my_config)\n",
    "```\n",
    "\n",
    "## Configuring command-line arguments\n",
    "\n",
    "Where necessary, BioSimSpace will configure the command-line arguments needed to run the process.\n",
    "\n",
    "To view the command-line argument string, run:"
   ]
  },
  {
   "cell_type": "code",
   "execution_count": null,
   "metadata": {},
   "outputs": [],
   "source": [
    "process.getArgString()"
   ]
  },
  {
   "cell_type": "markdown",
   "metadata": {},
   "source": [
    "The arguments are stored internally as an `OrderedDict` object. To view it, run:"
   ]
  },
  {
   "cell_type": "code",
   "execution_count": null,
   "metadata": {},
   "outputs": [],
   "source": [
    "process.getArgs()"
   ]
  },
  {
   "cell_type": "markdown",
   "metadata": {},
   "source": [
    "BioSimSpace provides functionality for setting and manipulating the arguments. For example, to disable the overwriting of output files:"
   ]
  },
  {
   "cell_type": "code",
   "execution_count": null,
   "metadata": {},
   "outputs": [],
   "source": [
    "process.setArg('-O', False)\n",
    "process.getArgs()"
   ]
  },
  {
   "cell_type": "markdown",
   "metadata": {},
   "source": [
    "Let's see how the argument string changed:"
   ]
  },
  {
   "cell_type": "code",
   "execution_count": null,
   "metadata": {},
   "outputs": [],
   "source": [
    "process.getArgString()"
   ]
  },
  {
   "cell_type": "markdown",
   "metadata": {},
   "source": [
    "The `setArg` method can be used to add a new argument, or to overwrite the value of an existing argument. There are several other methods that allow the arguments to be modified:\n",
    "\n",
    "* setArgs(args): Overwrite all arguments with a new dictionary.\n",
    "* addArgs(args): Append additional arguments.\n",
    "* insertArgs(arg, value, index): Insert an argument at a specific index.\n",
    "* deleteArg(arg): Delete an argument from the dictionary.\n",
    "* clearArgs(): Clear all of the arguments.\n",
    "\n",
    "If you ever get in trouble, it's easy to reset the arguments to their default values:"
   ]
  },
  {
   "cell_type": "code",
   "execution_count": null,
   "metadata": {},
   "outputs": [],
   "source": [
    "process.resetArgs()\n",
    "process.getArgs()"
   ]
  },
  {
   "cell_type": "markdown",
   "metadata": {},
   "source": [
    "## Running the process\n",
    "\n",
    "Having configured the process to your liking, it's time to run a simulation.\n",
    "\n",
    "To start the process, run:"
   ]
  },
  {
   "cell_type": "code",
   "execution_count": null,
   "metadata": {},
   "outputs": [],
   "source": [
    "process.start()"
   ]
  },
  {
   "cell_type": "markdown",
   "metadata": {},
   "source": [
    "BioSimSpace has now launched a minimisation process in the background. (Note that if we have omitted the `autostart` keyword argument when initialising the process object then it would have been immediatedly started.)\n",
    "\n",
    "To see if the process is still running:"
   ]
  },
  {
   "cell_type": "code",
   "execution_count": null,
   "metadata": {},
   "outputs": [],
   "source": [
    "process.isRunning()"
   ]
  },
  {
   "cell_type": "markdown",
   "metadata": {},
   "source": [
    "To see how many minutes the process has been running for:"
   ]
  },
  {
   "cell_type": "code",
   "execution_count": null,
   "metadata": {},
   "outputs": [],
   "source": [
    "process.runTime()"
   ]
  },
  {
   "cell_type": "markdown",
   "metadata": {},
   "source": [
    "We can also query the total energy of the molecular system (in kcal/mol):"
   ]
  },
  {
   "cell_type": "code",
   "execution_count": null,
   "metadata": {},
   "outputs": [],
   "source": [
    "process.getTotalEnergy()"
   ]
  },
  {
   "cell_type": "markdown",
   "metadata": {},
   "source": [
    "We can monitor the time, temperature, and energy as the process runs. If you run this multiple times using \"CTRL+Return\" you'll see the temperature slowly increasing."
   ]
  },
  {
   "cell_type": "code",
   "execution_count": null,
   "metadata": {},
   "outputs": [],
   "source": [
    "print(process.getTime(), process.getTemperature(), process.getTotalEnergy())"
   ]
  },
  {
   "cell_type": "markdown",
   "metadata": {},
   "source": [
    "It's possible to query many other thermodynamic records. What's available depends on type of protocol and the program that is used to run the protocol. To get more information, run:"
   ]
  },
  {
   "cell_type": "code",
   "execution_count": null,
   "metadata": {},
   "outputs": [],
   "source": [
    "help(process)"
   ]
  },
  {
   "cell_type": "markdown",
   "metadata": {},
   "source": [
    "## Plotting time series data\n",
    "\n",
    "As well as querying the most recent records we can also get a time series of results by passing the `time_series` keyword argument to any of the data record getter methods, e.g.\n",
    "\n",
    "```python\n",
    "# Get a time series of pressure records.\n",
    "pressure = process.getPressure(time_series=True)\n",
    "```\n",
    "\n",
    "BioSimSpace comes with several useful tools that are available when working inside of a Jupyter notebook. One of this is the `plot` function, that allows us to create simple x/y plot of time series data.\n",
    "\n",
    "Let's grab the same record data as above and use it to make some graphs of the data."
   ]
  },
  {
   "cell_type": "code",
   "execution_count": null,
   "metadata": {},
   "outputs": [],
   "source": [
    "# Generate a plot of time vs temperature.\n",
    "plot1 = BSS.Notebook.plot(process.getTime(time_series=True), process.getTemperature(time_series=True))\n",
    "\n",
    "# Generate a plot of time vs energy.\n",
    "plot2 = BSS.Notebook.plot(process.getTime(time_series=True), process.getTotalEnergy(time_series=True))"
   ]
  },
  {
   "cell_type": "markdown",
   "metadata": {},
   "source": [
    "Re-run the cell using \"CTRL+Return\" to see the graphs update as the simulation progesses.\n",
    "\n",
    "Being able to query a process in real time is an incredibly useful tool. This could enable us to check for convergence, or spot errors in the simulation. If you ever need to kill a running process (perhaps it was configured incorrectly), run:\n",
    "\n",
    "```python\n",
    "process.kill()\n",
    "```"
   ]
  },
  {
   "cell_type": "markdown",
   "metadata": {},
   "source": [
    "## Visualising the molecular system\n",
    "\n",
    "Another useful tool that is available when working inside of a notebook. One of these is the `View` class that can be used to visualise the molecular system while a process is running. To create a `View` object we must attach it to a process (or a molecular system), e.g.:"
   ]
  },
  {
   "cell_type": "code",
   "execution_count": null,
   "metadata": {},
   "outputs": [],
   "source": [
    "view = BSS.Notebook.View(process)"
   ]
  },
  {
   "cell_type": "markdown",
   "metadata": {},
   "source": [
    "We can now visualise the system:"
   ]
  },
  {
   "cell_type": "code",
   "execution_count": null,
   "metadata": {},
   "outputs": [],
   "source": [
    "view.system()"
   ]
  },
  {
   "cell_type": "markdown",
   "metadata": {},
   "source": [
    "To only view a specific molecule:"
   ]
  },
  {
   "cell_type": "code",
   "execution_count": null,
   "metadata": {},
   "outputs": [],
   "source": [
    "view.molecule(0)"
   ]
  },
  {
   "cell_type": "markdown",
   "metadata": {},
   "source": [
    "To view a list of molecules:"
   ]
  },
  {
   "cell_type": "code",
   "execution_count": null,
   "metadata": {},
   "outputs": [],
   "source": [
    "view.molecules([0, 5, 10])"
   ]
  },
  {
   "cell_type": "markdown",
   "metadata": {},
   "source": [
    "If a particular view was of interest it can be reloaded as follows:"
   ]
  },
  {
   "cell_type": "code",
   "execution_count": null,
   "metadata": {},
   "outputs": [],
   "source": [
    "# Reload the original view.\n",
    "view.reload(0)"
   ]
  },
  {
   "cell_type": "markdown",
   "metadata": {},
   "source": [
    "To save a specific view as a PDB file:"
   ]
  },
  {
   "cell_type": "code",
   "execution_count": null,
   "metadata": {},
   "outputs": [],
   "source": [
    "view.savePDB(\"my_view.pdb\", index=0)"
   ]
  },
  {
   "cell_type": "markdown",
   "metadata": {},
   "source": [
    "## Reading and analysis trajectory data\n",
    "\n",
    "BioSimSpace comes with a set of tools for reading and analysis trajectory files. Files can be loaded directly, or if supported, can be read from a running process.\n",
    "\n",
    "For example, to get the trajectory from the process, run:"
   ]
  },
  {
   "cell_type": "code",
   "execution_count": null,
   "metadata": {},
   "outputs": [],
   "source": [
    "traj = process.getTrajectory()"
   ]
  },
  {
   "cell_type": "markdown",
   "metadata": {},
   "source": [
    "(If you get an error, then the trajectory file may be in the process of being written. Simply try again.)\n",
    "\n",
    "To get the current number of frames:"
   ]
  },
  {
   "cell_type": "code",
   "execution_count": null,
   "metadata": {},
   "outputs": [],
   "source": [
    "traj.nFrames()"
   ]
  },
  {
   "cell_type": "markdown",
   "metadata": {},
   "source": [
    "To get the frames as a list of system objects:"
   ]
  },
  {
   "cell_type": "code",
   "execution_count": null,
   "metadata": {},
   "outputs": [],
   "source": [
    "frames = traj.getFrames()"
   ]
  },
  {
   "cell_type": "markdown",
   "metadata": {},
   "source": [
    "Specific frames can be extracted by passing a list of indices, e.g. the first and last:"
   ]
  },
  {
   "cell_type": "code",
   "execution_count": null,
   "metadata": {},
   "outputs": [],
   "source": [
    "frames = traj.getFrames([0, -1])"
   ]
  },
  {
   "cell_type": "markdown",
   "metadata": {},
   "source": [
    "Like most things in BioSimSpace, the `Trajectory` class is simply a wrapper around existing tools. Internally, trajectories are stored as an [MDTraj](http://mdtraj.org) object. This can be obtained, allowing the user direct access to the full power of MDTraj."
   ]
  },
  {
   "cell_type": "code",
   "execution_count": null,
   "metadata": {},
   "outputs": [],
   "source": [
    "mdtraj = traj.getTrajectory()\n",
    "type(mdtraj)"
   ]
  },
  {
   "cell_type": "markdown",
   "metadata": {},
   "source": [
    "Alternatively, a trajectory can be returned in [MDAnalysis](https://www.mdanalysis.org) format:"
   ]
  },
  {
   "cell_type": "code",
   "execution_count": null,
   "metadata": {},
   "outputs": [],
   "source": [
    "mdanalysis = traj.getTrajectory(format=\"mdanalysis\")\n",
    "type(mdanalysis)"
   ]
  },
  {
   "cell_type": "markdown",
   "metadata": {},
   "source": [
    "The `Trajectory` class provides wrappers around some basic MDTraj analysis tools, allowing the user to compute quantities such as the root mean squared displacement (RMSD).\n",
    "\n",
    "Let's measure the RMSD of the alanine-dipeptide molecule with a reference to its configuration in the first trajectory frame. To extract the alanine-dipeptide, we search the system for a residue named `ALA`. We'll also plot the RMSD for each frame of the trajectory."
   ]
  },
  {
   "cell_type": "code",
   "execution_count": null,
   "metadata": {},
   "outputs": [],
   "source": [
    "BSS.Notebook.plot(y=process.getTrajectory().RMSD(frame=0, molecule=system.getMolWithResName(\"ALA\")), xlabel=\"Frame\", ylabel=\"RMSD\")"
   ]
  },
  {
   "cell_type": "markdown",
   "metadata": {},
   "source": [
    "Finally, let's save the equilibrated system along with a file containing the RMSD for each trajectory frame. Once again we'll use `block=True` to indicate that we want to wait until the process has finished before writing to file."
   ]
  },
  {
   "cell_type": "code",
   "execution_count": null,
   "metadata": {},
   "outputs": [],
   "source": [
    "# Write the final configuration of the equilibration to file.\n",
    "BSS.IO.saveMolecules(\"equilibrated\", process.getSystem(block=True), system.fileFormat())\n",
    "\n",
    "# Get the RMSD and write it to file. There is no need to block here since we know the process has already finished.\n",
    "rmsd = process.getTrajectory().RMSD(frame=0, molecule=system.getMolWithResName(\"ALA\"))\n",
    "\n",
    "with open(\"rmsd.txt\", \"w\") as file:\n",
    "    for index, value in enumerate(rmsd):\n",
    "        file.write(\"%d %5.4f\\n\" % (index, value))"
   ]
  },
  {
   "cell_type": "markdown",
   "metadata": {},
   "source": [
    "## Exercise\n",
    "\n",
    "Open a new notebook and create a BioSimSpace node to execute the equilibration protocol outlined above.\n",
    "\n",
    "The node should require the following input:\n",
    "\n",
    "* A set of input files defining the molecular system.\n",
    "* The runtime, in nanoseconds.\n",
    "* The starting temperature, in Kelvin.\n",
    "* The final temperature, in Kelvin.\n",
    "* Whether to restrain the backbone.\n",
    "* The name of the residue used to identify the molecule.\n",
    "\n",
    "More details regarding the available input requirements can be found [here](https://github.com/michellab/BioSimSpace/tree/devel/python/BioSimSpace/Gateway).\n",
    "\n",
    "The node should create the following ouput:\n",
    "\n",
    "* The equilibrated molecular system, saved in the original file format.\n",
    "* The RMSD, saved as a text file.\n",
    "\n",
    "When you are happy with your node, save it as a python script and verify that it works from the command-line.\n",
    "\n",
    "If you get stuck, a solution can be found [here](nodes/equilibration.ipynb)."
   ]
  }
 ],
 "metadata": {
  "kernelspec": {
   "display_name": "Python 3",
   "language": "python",
   "name": "python3"
  },
  "language_info": {
   "codemirror_mode": {
    "name": "ipython",
    "version": 3
   },
   "file_extension": ".py",
   "mimetype": "text/x-python",
   "name": "python",
   "nbconvert_exporter": "python",
   "pygments_lexer": "ipython3",
   "version": "3.5.4"
  }
 },
 "nbformat": 4,
 "nbformat_minor": 2
}
